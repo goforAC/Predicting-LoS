{
 "cells": [
  {
   "cell_type": "code",
   "execution_count": null,
   "metadata": {
    "collapsed": true
   },
   "outputs": [],
   "source": [
    "import matplotlib\n",
    "import matplotlib.pyplot as plt\n",
    "import numpy as np\n",
    "import pandas as pd\n",
    "# from itertools import groupby\n",
    "# from ipywidgets import interact, Dropdown, IntSlider, Layout\n",
    "\n",
    "from config import db"
   ]
  },
  {
   "cell_type": "code",
   "execution_count": null,
   "metadata": {},
   "outputs": [],
   "source": [
    "c = db.cursor()\n",
    "c.execute('''\n",
    "--    SELECT COUNT(record_id), AVG(DATEDIFF(aufnahmedatum, entlassungsdatum)), geschlecht, AVG(alter_in_jahren_am_aufnahmetag)\n",
    "--    FROM icd_records\n",
    "--    GROUP BY geschlecht\n",
    "--    ORDER BY alter_in_jahren_am_aufnahmetag\n",
    "--    LIMIT 100\n",
    "    SELECT DISTINCT(record_id), DATEDIFF(entlassungsdatum, aufnahmedatum), geschlecht, alter_in_jahren_am_aufnahmetag\n",
    "    FROM icd_records\n",
    "    LIMIT 10000\n",
    "''')\n",
    "8\n",
    "data = c.fetchall()\n",
    "# print(data)\n",
    "print(len(data))"
   ]
  },
  {
   "cell_type": "code",
   "execution_count": null,
   "metadata": {},
   "outputs": [],
   "source": [
    "for i in data:\n",
    "    print(i)"
   ]
  },
  {
   "cell_type": "code",
   "execution_count": null,
   "metadata": {},
   "outputs": [],
   "source": [
    "bins = np.arange(1, 120, 5)  # arange()\n",
    "male = np.array([p for p in data if p[1] and p[2] == 'm'])\n",
    "female = np.array([p for p in data if p[1] and 'w' in p])\n",
    "np.set_printoptions(threshold=np.nan)\n",
    "print(set(male[:,1]))\n",
    "# m_bins = np.histogram([p[1] for p in male], bins)\n",
    "# f_bins = np.histogram([p[1] for p in female], bins)\n",
    "\n",
    "m_pos = np.digitize([p[3] for p in male], bins)\n",
    "f_pos = np.digitize([p[3] for p in female], bins)\n",
    "\n",
    "print(m_pos)\n",
    "m_means = []\n",
    "f_means = []\n",
    "for b in range(len(bins)):\n",
    "    m_vals = list(map(float, male[m_pos == b, 1]))\n",
    "    if m_vals:\n",
    "        m_means.append(np.mean(m_vals))\n",
    "    else:\n",
    "        m_means.append(0)\n",
    "    f_vals = list(map(float, female[f_pos == b, 1]))\n",
    "    if f_vals:\n",
    "        f_means.append(np.mean(f_vals))\n",
    "    else:\n",
    "        f_means.append(0)\n",
    "\n",
    "\n",
    "\n",
    "\n",
    "# m_values = for i in m_pos \n",
    "# f_values = \n",
    "\n",
    "        \n",
    "\n",
    "# plt.title('duration of stay for age in gender')\n",
    "# plt.ylabel('mean duration of stay in days')\n",
    "# plt.xlabel('age')\n",
    "# plt.bar(bins, [f[0] for f in female])"
   ]
  },
  {
   "cell_type": "code",
   "execution_count": null,
   "metadata": {},
   "outputs": [],
   "source": [
    "import numpy as np\n",
    "import matplotlib.pyplot as plt\n",
    "\n",
    "fig = plt.figure()\n",
    "ax = fig.add_subplot(111)\n",
    "\n",
    "## the data\n",
    "N = len(bins)\n",
    "\n",
    "\n",
    "## necessary variables\n",
    "ind = np.arange(N)                # the x locations for the groups\n",
    "width = 0.35                      # the width of the bars\n",
    "\n",
    "## the bars\n",
    "rects1 = ax.bar(ind-1, m_means, width,\n",
    "                color='red')\n",
    "\n",
    "rects2 = ax.bar(ind+width-1, f_means, width,\n",
    "                    color='blue')\n",
    "\n",
    "# axes and labels\n",
    "ax.set_xlim(-width,len(ind)+width)\n",
    "ax.set_ylabel('Mean duration of stay in days')\n",
    "ax.set_xlabel('age')\n",
    "ax.set_title('Duration of stay by age and sex')\n",
    "xTickMarks = bins\n",
    "ax.set_xticks(ind+width)\n",
    "xtickNames = ax.set_xticklabels(xTickMarks)\n",
    "plt.setp(xtickNames, rotation=45, fontsize=10)\n",
    "\n",
    "## add a legend\n",
    "ax.legend( (rects1[0], rects2[0]), ('male', 'female') )\n",
    "\n",
    "plt.show()"
   ]
  },
  {
   "cell_type": "code",
   "execution_count": null,
   "metadata": {
    "collapsed": true
   },
   "outputs": [],
   "source": []
  }
 ],
 "metadata": {
  "kernelspec": {
   "display_name": "Python 3",
   "language": "python",
   "name": "python3"
  },
  "language_info": {
   "codemirror_mode": {
    "name": "ipython",
    "version": 3
   },
   "file_extension": ".py",
   "mimetype": "text/x-python",
   "name": "python",
   "nbconvert_exporter": "python",
   "pygments_lexer": "ipython3",
   "version": "3.6.1"
  }
 },
 "nbformat": 4,
 "nbformat_minor": 2
}
